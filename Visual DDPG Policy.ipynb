{
 "cells": [
  {
   "cell_type": "code",
   "execution_count": 1,
   "metadata": {},
   "outputs": [],
   "source": [
    "import numpy as np\n",
    "import pandas as pd\n",
    "from stable_baselines3 import DQN\n",
    "import pickle\n",
    "import os\n",
    "\n",
    "import matplotlib.pyplot as plt\n",
    "%matplotlib inline"
   ]
  },
  {
   "cell_type": "code",
   "execution_count": 2,
   "metadata": {},
   "outputs": [],
   "source": [
    "RESULT_PATH = '/scratch/wf541/multirun/2021-12-06/02:36:29'"
   ]
  },
  {
   "cell_type": "code",
   "execution_count": 3,
   "metadata": {},
   "outputs": [],
   "source": [
    "results = [os.path.join(RESULT_PATH, pth) for pth in os.listdir(RESULT_PATH) if (not pth.endswith('.yaml')) and (not pth.startswith('.'))]"
   ]
  },
  {
   "cell_type": "code",
   "execution_count": 4,
   "metadata": {},
   "outputs": [
    {
     "data": {
      "text/plain": [
       "['/scratch/wf541/multirun/2021-12-06/02:36:29/OUstd=0.15,gamma=0.999',\n",
       " '/scratch/wf541/multirun/2021-12-06/02:36:29/OUstd=0.5,gamma=0.99',\n",
       " '/scratch/wf541/multirun/2021-12-06/02:36:29/OUstd=0.5,gamma=0.999',\n",
       " '/scratch/wf541/multirun/2021-12-06/02:36:29/OUstd=0.1,gamma=0.99',\n",
       " '/scratch/wf541/multirun/2021-12-06/02:36:29/OUstd=0.15,gamma=0.99',\n",
       " '/scratch/wf541/multirun/2021-12-06/02:36:29/OUstd=0.1,gamma=0.999']"
      ]
     },
     "execution_count": 4,
     "metadata": {},
     "output_type": "execute_result"
    }
   ],
   "source": [
    "results"
   ]
  },
  {
   "cell_type": "code",
   "execution_count": 5,
   "metadata": {},
   "outputs": [],
   "source": [
    "path = results[2]"
   ]
  },
  {
   "cell_type": "code",
   "execution_count": 6,
   "metadata": {},
   "outputs": [],
   "source": [
    "action_oos_eval_path = os.path.join(path, 'action_fn_logs.h5')\n",
    "action_eval_path = os.path.join(path, 'eval_path.pkl')\n",
    "policy_function_path = os.path.join(path, 'policy_result_logs.h5')"
   ]
  },
  {
   "cell_type": "code",
   "execution_count": 7,
   "metadata": {},
   "outputs": [],
   "source": [
    "oos_eval = pd.read_hdf(action_oos_eval_path)"
   ]
  },
  {
   "cell_type": "code",
   "execution_count": 8,
   "metadata": {},
   "outputs": [
    {
     "data": {
      "text/html": [
       "<div>\n",
       "<style scoped>\n",
       "    .dataframe tbody tr th:only-of-type {\n",
       "        vertical-align: middle;\n",
       "    }\n",
       "\n",
       "    .dataframe tbody tr th {\n",
       "        vertical-align: top;\n",
       "    }\n",
       "\n",
       "    .dataframe thead th {\n",
       "        text-align: right;\n",
       "    }\n",
       "</style>\n",
       "<table border=\"1\" class=\"dataframe\">\n",
       "  <thead>\n",
       "    <tr style=\"text-align: right;\">\n",
       "      <th></th>\n",
       "      <th>holdings</th>\n",
       "      <th>reward</th>\n",
       "    </tr>\n",
       "  </thead>\n",
       "  <tbody>\n",
       "    <tr>\n",
       "      <th>0</th>\n",
       "      <td>-100.000000</td>\n",
       "      <td>-0.000000</td>\n",
       "    </tr>\n",
       "    <tr>\n",
       "      <th>1</th>\n",
       "      <td>-100.000000</td>\n",
       "      <td>-0.046927</td>\n",
       "    </tr>\n",
       "    <tr>\n",
       "      <th>2</th>\n",
       "      <td>-100.000000</td>\n",
       "      <td>-1.579637</td>\n",
       "    </tr>\n",
       "    <tr>\n",
       "      <th>3</th>\n",
       "      <td>-100.000000</td>\n",
       "      <td>-7.531154</td>\n",
       "    </tr>\n",
       "    <tr>\n",
       "      <th>4</th>\n",
       "      <td>-100.000000</td>\n",
       "      <td>-0.126354</td>\n",
       "    </tr>\n",
       "    <tr>\n",
       "      <th>...</th>\n",
       "      <td>...</td>\n",
       "      <td>...</td>\n",
       "    </tr>\n",
       "    <tr>\n",
       "      <th>499995</th>\n",
       "      <td>-61.319138</td>\n",
       "      <td>-2.321266</td>\n",
       "    </tr>\n",
       "    <tr>\n",
       "      <th>499996</th>\n",
       "      <td>-61.319138</td>\n",
       "      <td>-0.004814</td>\n",
       "    </tr>\n",
       "    <tr>\n",
       "      <th>499997</th>\n",
       "      <td>-61.319138</td>\n",
       "      <td>-0.046405</td>\n",
       "    </tr>\n",
       "    <tr>\n",
       "      <th>499998</th>\n",
       "      <td>-61.319138</td>\n",
       "      <td>-0.722884</td>\n",
       "    </tr>\n",
       "    <tr>\n",
       "      <th>499999</th>\n",
       "      <td>-61.319138</td>\n",
       "      <td>-3.914890</td>\n",
       "    </tr>\n",
       "  </tbody>\n",
       "</table>\n",
       "<p>36000000 rows × 2 columns</p>\n",
       "</div>"
      ],
      "text/plain": [
       "          holdings    reward\n",
       "0      -100.000000 -0.000000\n",
       "1      -100.000000 -0.046927\n",
       "2      -100.000000 -1.579637\n",
       "3      -100.000000 -7.531154\n",
       "4      -100.000000 -0.126354\n",
       "...            ...       ...\n",
       "499995  -61.319138 -2.321266\n",
       "499996  -61.319138 -0.004814\n",
       "499997  -61.319138 -0.046405\n",
       "499998  -61.319138 -0.722884\n",
       "499999  -61.319138 -3.914890\n",
       "\n",
       "[36000000 rows x 2 columns]"
      ]
     },
     "execution_count": 8,
     "metadata": {},
     "output_type": "execute_result"
    }
   ],
   "source": [
    "oos_eval"
   ]
  },
  {
   "cell_type": "code",
   "execution_count": 9,
   "metadata": {},
   "outputs": [],
   "source": [
    "oos_eval['idx'] = np.repeat(np.arange(oos_eval.shape[0] // (50 * 10000)), 50 * 10000)"
   ]
  },
  {
   "cell_type": "code",
   "execution_count": 10,
   "metadata": {},
   "outputs": [
    {
     "data": {
      "text/html": [
       "<div>\n",
       "<style scoped>\n",
       "    .dataframe tbody tr th:only-of-type {\n",
       "        vertical-align: middle;\n",
       "    }\n",
       "\n",
       "    .dataframe tbody tr th {\n",
       "        vertical-align: top;\n",
       "    }\n",
       "\n",
       "    .dataframe thead th {\n",
       "        text-align: right;\n",
       "    }\n",
       "</style>\n",
       "<table border=\"1\" class=\"dataframe\">\n",
       "  <thead>\n",
       "    <tr style=\"text-align: right;\">\n",
       "      <th></th>\n",
       "      <th>holdings</th>\n",
       "      <th>reward</th>\n",
       "      <th>idx</th>\n",
       "    </tr>\n",
       "  </thead>\n",
       "  <tbody>\n",
       "    <tr>\n",
       "      <th>0</th>\n",
       "      <td>-100.000000</td>\n",
       "      <td>-0.000000</td>\n",
       "      <td>0</td>\n",
       "    </tr>\n",
       "    <tr>\n",
       "      <th>1</th>\n",
       "      <td>-100.000000</td>\n",
       "      <td>-0.046927</td>\n",
       "      <td>0</td>\n",
       "    </tr>\n",
       "    <tr>\n",
       "      <th>2</th>\n",
       "      <td>-100.000000</td>\n",
       "      <td>-1.579637</td>\n",
       "      <td>0</td>\n",
       "    </tr>\n",
       "    <tr>\n",
       "      <th>3</th>\n",
       "      <td>-100.000000</td>\n",
       "      <td>-7.531154</td>\n",
       "      <td>0</td>\n",
       "    </tr>\n",
       "    <tr>\n",
       "      <th>4</th>\n",
       "      <td>-100.000000</td>\n",
       "      <td>-0.126354</td>\n",
       "      <td>0</td>\n",
       "    </tr>\n",
       "    <tr>\n",
       "      <th>...</th>\n",
       "      <td>...</td>\n",
       "      <td>...</td>\n",
       "      <td>...</td>\n",
       "    </tr>\n",
       "    <tr>\n",
       "      <th>499995</th>\n",
       "      <td>-61.319138</td>\n",
       "      <td>-2.321266</td>\n",
       "      <td>71</td>\n",
       "    </tr>\n",
       "    <tr>\n",
       "      <th>499996</th>\n",
       "      <td>-61.319138</td>\n",
       "      <td>-0.004814</td>\n",
       "      <td>71</td>\n",
       "    </tr>\n",
       "    <tr>\n",
       "      <th>499997</th>\n",
       "      <td>-61.319138</td>\n",
       "      <td>-0.046405</td>\n",
       "      <td>71</td>\n",
       "    </tr>\n",
       "    <tr>\n",
       "      <th>499998</th>\n",
       "      <td>-61.319138</td>\n",
       "      <td>-0.722884</td>\n",
       "      <td>71</td>\n",
       "    </tr>\n",
       "    <tr>\n",
       "      <th>499999</th>\n",
       "      <td>-61.319138</td>\n",
       "      <td>-3.914890</td>\n",
       "      <td>71</td>\n",
       "    </tr>\n",
       "  </tbody>\n",
       "</table>\n",
       "<p>36000000 rows × 3 columns</p>\n",
       "</div>"
      ],
      "text/plain": [
       "          holdings    reward  idx\n",
       "0      -100.000000 -0.000000    0\n",
       "1      -100.000000 -0.046927    0\n",
       "2      -100.000000 -1.579637    0\n",
       "3      -100.000000 -7.531154    0\n",
       "4      -100.000000 -0.126354    0\n",
       "...            ...       ...  ...\n",
       "499995  -61.319138 -2.321266   71\n",
       "499996  -61.319138 -0.004814   71\n",
       "499997  -61.319138 -0.046405   71\n",
       "499998  -61.319138 -0.722884   71\n",
       "499999  -61.319138 -3.914890   71\n",
       "\n",
       "[36000000 rows x 3 columns]"
      ]
     },
     "execution_count": 10,
     "metadata": {},
     "output_type": "execute_result"
    }
   ],
   "source": [
    "oos_eval"
   ]
  },
  {
   "cell_type": "code",
   "execution_count": 11,
   "metadata": {},
   "outputs": [
    {
     "data": {
      "text/html": [
       "<div>\n",
       "<style scoped>\n",
       "    .dataframe tbody tr th:only-of-type {\n",
       "        vertical-align: middle;\n",
       "    }\n",
       "\n",
       "    .dataframe tbody tr th {\n",
       "        vertical-align: top;\n",
       "    }\n",
       "\n",
       "    .dataframe thead th {\n",
       "        text-align: right;\n",
       "    }\n",
       "</style>\n",
       "<table border=\"1\" class=\"dataframe\">\n",
       "  <thead>\n",
       "    <tr style=\"text-align: right;\">\n",
       "      <th></th>\n",
       "      <th>stock_price</th>\n",
       "      <th>obs_3</th>\n",
       "      <th>stock_holdings</th>\n",
       "      <th>time_to_maturity</th>\n",
       "      <th>obs_6</th>\n",
       "      <th>obs_7</th>\n",
       "      <th>t</th>\n",
       "      <th>delta</th>\n",
       "      <th>call_price</th>\n",
       "      <th>actions</th>\n",
       "    </tr>\n",
       "  </thead>\n",
       "  <tbody>\n",
       "    <tr>\n",
       "      <th>0</th>\n",
       "      <td>98</td>\n",
       "      <td>1</td>\n",
       "      <td>-100</td>\n",
       "      <td>0.194444</td>\n",
       "      <td>0</td>\n",
       "      <td>0</td>\n",
       "      <td>0.98</td>\n",
       "      <td>0.416945</td>\n",
       "      <td>2.28864</td>\n",
       "      <td>-61.319138</td>\n",
       "    </tr>\n",
       "    <tr>\n",
       "      <th>1</th>\n",
       "      <td>98</td>\n",
       "      <td>1</td>\n",
       "      <td>-99</td>\n",
       "      <td>0.194444</td>\n",
       "      <td>0</td>\n",
       "      <td>0</td>\n",
       "      <td>0.98</td>\n",
       "      <td>0.416945</td>\n",
       "      <td>2.28864</td>\n",
       "      <td>-61.319138</td>\n",
       "    </tr>\n",
       "    <tr>\n",
       "      <th>2</th>\n",
       "      <td>98</td>\n",
       "      <td>1</td>\n",
       "      <td>-98</td>\n",
       "      <td>0.194444</td>\n",
       "      <td>0</td>\n",
       "      <td>0</td>\n",
       "      <td>0.98</td>\n",
       "      <td>0.416945</td>\n",
       "      <td>2.28864</td>\n",
       "      <td>-61.319138</td>\n",
       "    </tr>\n",
       "    <tr>\n",
       "      <th>3</th>\n",
       "      <td>98</td>\n",
       "      <td>1</td>\n",
       "      <td>-97</td>\n",
       "      <td>0.194444</td>\n",
       "      <td>0</td>\n",
       "      <td>0</td>\n",
       "      <td>0.98</td>\n",
       "      <td>0.416945</td>\n",
       "      <td>2.28864</td>\n",
       "      <td>-61.319138</td>\n",
       "    </tr>\n",
       "    <tr>\n",
       "      <th>4</th>\n",
       "      <td>98</td>\n",
       "      <td>1</td>\n",
       "      <td>-96</td>\n",
       "      <td>0.194444</td>\n",
       "      <td>0</td>\n",
       "      <td>0</td>\n",
       "      <td>0.98</td>\n",
       "      <td>0.416945</td>\n",
       "      <td>2.28864</td>\n",
       "      <td>-61.319138</td>\n",
       "    </tr>\n",
       "    <tr>\n",
       "      <th>...</th>\n",
       "      <td>...</td>\n",
       "      <td>...</td>\n",
       "      <td>...</td>\n",
       "      <td>...</td>\n",
       "      <td>...</td>\n",
       "      <td>...</td>\n",
       "      <td>...</td>\n",
       "      <td>...</td>\n",
       "      <td>...</td>\n",
       "      <td>...</td>\n",
       "    </tr>\n",
       "    <tr>\n",
       "      <th>76</th>\n",
       "      <td>102</td>\n",
       "      <td>1</td>\n",
       "      <td>-24</td>\n",
       "      <td>0.194444</td>\n",
       "      <td>0</td>\n",
       "      <td>0</td>\n",
       "      <td>0.98</td>\n",
       "      <td>0.612384</td>\n",
       "      <td>4.35113</td>\n",
       "      <td>-61.319138</td>\n",
       "    </tr>\n",
       "    <tr>\n",
       "      <th>77</th>\n",
       "      <td>102</td>\n",
       "      <td>1</td>\n",
       "      <td>-23</td>\n",
       "      <td>0.194444</td>\n",
       "      <td>0</td>\n",
       "      <td>0</td>\n",
       "      <td>0.98</td>\n",
       "      <td>0.612384</td>\n",
       "      <td>4.35113</td>\n",
       "      <td>-61.319138</td>\n",
       "    </tr>\n",
       "    <tr>\n",
       "      <th>78</th>\n",
       "      <td>102</td>\n",
       "      <td>1</td>\n",
       "      <td>-22</td>\n",
       "      <td>0.194444</td>\n",
       "      <td>0</td>\n",
       "      <td>0</td>\n",
       "      <td>0.98</td>\n",
       "      <td>0.612384</td>\n",
       "      <td>4.35113</td>\n",
       "      <td>-61.319138</td>\n",
       "    </tr>\n",
       "    <tr>\n",
       "      <th>79</th>\n",
       "      <td>102</td>\n",
       "      <td>1</td>\n",
       "      <td>-21</td>\n",
       "      <td>0.194444</td>\n",
       "      <td>0</td>\n",
       "      <td>0</td>\n",
       "      <td>0.98</td>\n",
       "      <td>0.612384</td>\n",
       "      <td>4.35113</td>\n",
       "      <td>-61.319138</td>\n",
       "    </tr>\n",
       "    <tr>\n",
       "      <th>80</th>\n",
       "      <td>102</td>\n",
       "      <td>1</td>\n",
       "      <td>-20</td>\n",
       "      <td>0.194444</td>\n",
       "      <td>0</td>\n",
       "      <td>0</td>\n",
       "      <td>0.98</td>\n",
       "      <td>0.612384</td>\n",
       "      <td>4.35113</td>\n",
       "      <td>-61.319138</td>\n",
       "    </tr>\n",
       "  </tbody>\n",
       "</table>\n",
       "<p>243 rows × 10 columns</p>\n",
       "</div>"
      ],
      "text/plain": [
       "    stock_price  obs_3  stock_holdings  time_to_maturity  obs_6  obs_7     t  \\\n",
       "0            98      1            -100          0.194444      0      0  0.98   \n",
       "1            98      1             -99          0.194444      0      0  0.98   \n",
       "2            98      1             -98          0.194444      0      0  0.98   \n",
       "3            98      1             -97          0.194444      0      0  0.98   \n",
       "4            98      1             -96          0.194444      0      0  0.98   \n",
       "..          ...    ...             ...               ...    ...    ...   ...   \n",
       "76          102      1             -24          0.194444      0      0  0.98   \n",
       "77          102      1             -23          0.194444      0      0  0.98   \n",
       "78          102      1             -22          0.194444      0      0  0.98   \n",
       "79          102      1             -21          0.194444      0      0  0.98   \n",
       "80          102      1             -20          0.194444      0      0  0.98   \n",
       "\n",
       "       delta  call_price    actions  \n",
       "0   0.416945     2.28864 -61.319138  \n",
       "1   0.416945     2.28864 -61.319138  \n",
       "2   0.416945     2.28864 -61.319138  \n",
       "3   0.416945     2.28864 -61.319138  \n",
       "4   0.416945     2.28864 -61.319138  \n",
       "..       ...         ...        ...  \n",
       "76  0.612384     4.35113 -61.319138  \n",
       "77  0.612384     4.35113 -61.319138  \n",
       "78  0.612384     4.35113 -61.319138  \n",
       "79  0.612384     4.35113 -61.319138  \n",
       "80  0.612384     4.35113 -61.319138  \n",
       "\n",
       "[243 rows x 10 columns]"
      ]
     },
     "execution_count": 11,
     "metadata": {},
     "output_type": "execute_result"
    }
   ],
   "source": [
    "policy_function = pd.read_hdf(policy_function_path)\n",
    "policy_function"
   ]
  },
  {
   "cell_type": "code",
   "execution_count": 12,
   "metadata": {},
   "outputs": [],
   "source": [
    "eval_path = pickle.load(open(action_eval_path, 'rb'))"
   ]
  },
  {
   "cell_type": "code",
   "execution_count": 13,
   "metadata": {},
   "outputs": [
    {
     "data": {
      "text/html": [
       "<div>\n",
       "<style scoped>\n",
       "    .dataframe tbody tr th:only-of-type {\n",
       "        vertical-align: middle;\n",
       "    }\n",
       "\n",
       "    .dataframe tbody tr th {\n",
       "        vertical-align: top;\n",
       "    }\n",
       "\n",
       "    .dataframe thead th {\n",
       "        text-align: right;\n",
       "    }\n",
       "</style>\n",
       "<table border=\"1\" class=\"dataframe\">\n",
       "  <thead>\n",
       "    <tr style=\"text-align: right;\">\n",
       "      <th></th>\n",
       "      <th>episode_idx</th>\n",
       "      <th>randn</th>\n",
       "      <th>time_to_maturity</th>\n",
       "      <th>cum_randn</th>\n",
       "      <th>price</th>\n",
       "      <th>all_1</th>\n",
       "      <th>normalized_time</th>\n",
       "      <th>delta</th>\n",
       "      <th>call_price</th>\n",
       "    </tr>\n",
       "  </thead>\n",
       "  <tbody>\n",
       "    <tr>\n",
       "      <th>0</th>\n",
       "      <td>0</td>\n",
       "      <td>0.496714</td>\n",
       "      <td>0.003968</td>\n",
       "      <td>0.496714</td>\n",
       "      <td>100.288355</td>\n",
       "      <td>1.0</td>\n",
       "      <td>0.02</td>\n",
       "      <td>0.530675</td>\n",
       "      <td>3.733329</td>\n",
       "    </tr>\n",
       "    <tr>\n",
       "      <th>1</th>\n",
       "      <td>0</td>\n",
       "      <td>-0.138264</td>\n",
       "      <td>0.007937</td>\n",
       "      <td>0.358450</td>\n",
       "      <td>100.208161</td>\n",
       "      <td>1.0</td>\n",
       "      <td>0.04</td>\n",
       "      <td>0.527114</td>\n",
       "      <td>3.683771</td>\n",
       "    </tr>\n",
       "    <tr>\n",
       "      <th>2</th>\n",
       "      <td>0</td>\n",
       "      <td>0.647689</td>\n",
       "      <td>0.011905</td>\n",
       "      <td>1.006138</td>\n",
       "      <td>100.575190</td>\n",
       "      <td>1.0</td>\n",
       "      <td>0.06</td>\n",
       "      <td>0.543336</td>\n",
       "      <td>3.873056</td>\n",
       "    </tr>\n",
       "    <tr>\n",
       "      <th>3</th>\n",
       "      <td>0</td>\n",
       "      <td>1.523030</td>\n",
       "      <td>0.015873</td>\n",
       "      <td>2.529168</td>\n",
       "      <td>101.445763</td>\n",
       "      <td>1.0</td>\n",
       "      <td>0.08</td>\n",
       "      <td>0.581375</td>\n",
       "      <td>4.355528</td>\n",
       "    </tr>\n",
       "    <tr>\n",
       "      <th>4</th>\n",
       "      <td>0</td>\n",
       "      <td>-0.234153</td>\n",
       "      <td>0.019841</td>\n",
       "      <td>2.295015</td>\n",
       "      <td>101.309552</td>\n",
       "      <td>1.0</td>\n",
       "      <td>0.10</td>\n",
       "      <td>0.575568</td>\n",
       "      <td>4.269587</td>\n",
       "    </tr>\n",
       "    <tr>\n",
       "      <th>...</th>\n",
       "      <td>...</td>\n",
       "      <td>...</td>\n",
       "      <td>...</td>\n",
       "      <td>...</td>\n",
       "      <td>...</td>\n",
       "      <td>...</td>\n",
       "      <td>...</td>\n",
       "      <td>...</td>\n",
       "      <td>...</td>\n",
       "    </tr>\n",
       "    <tr>\n",
       "      <th>499995</th>\n",
       "      <td>9999</td>\n",
       "      <td>1.333620</td>\n",
       "      <td>0.182540</td>\n",
       "      <td>-6.315671</td>\n",
       "      <td>96.419048</td>\n",
       "      <td>1.0</td>\n",
       "      <td>0.92</td>\n",
       "      <td>0.341836</td>\n",
       "      <td>1.711387</td>\n",
       "    </tr>\n",
       "    <tr>\n",
       "      <th>499996</th>\n",
       "      <td>9999</td>\n",
       "      <td>-0.109756</td>\n",
       "      <td>0.186508</td>\n",
       "      <td>-6.425427</td>\n",
       "      <td>96.357521</td>\n",
       "      <td>1.0</td>\n",
       "      <td>0.94</td>\n",
       "      <td>0.338518</td>\n",
       "      <td>1.683471</td>\n",
       "    </tr>\n",
       "    <tr>\n",
       "      <th>499997</th>\n",
       "      <td>9999</td>\n",
       "      <td>-0.243695</td>\n",
       "      <td>0.190476</td>\n",
       "      <td>-6.669122</td>\n",
       "      <td>96.222937</td>\n",
       "      <td>1.0</td>\n",
       "      <td>0.96</td>\n",
       "      <td>0.331785</td>\n",
       "      <td>1.631411</td>\n",
       "    </tr>\n",
       "    <tr>\n",
       "      <th>499998</th>\n",
       "      <td>9999</td>\n",
       "      <td>-0.797460</td>\n",
       "      <td>0.194444</td>\n",
       "      <td>-7.466581</td>\n",
       "      <td>95.787339</td>\n",
       "      <td>1.0</td>\n",
       "      <td>0.98</td>\n",
       "      <td>0.311208</td>\n",
       "      <td>1.484546</td>\n",
       "    </tr>\n",
       "    <tr>\n",
       "      <th>499999</th>\n",
       "      <td>9999</td>\n",
       "      <td>-1.641133</td>\n",
       "      <td>0.198413</td>\n",
       "      <td>-9.107715</td>\n",
       "      <td>94.898708</td>\n",
       "      <td>1.0</td>\n",
       "      <td>1.00</td>\n",
       "      <td>0.271092</td>\n",
       "      <td>1.219463</td>\n",
       "    </tr>\n",
       "  </tbody>\n",
       "</table>\n",
       "<p>500000 rows × 9 columns</p>\n",
       "</div>"
      ],
      "text/plain": [
       "        episode_idx     randn  time_to_maturity  cum_randn       price  all_1  \\\n",
       "0                 0  0.496714          0.003968   0.496714  100.288355    1.0   \n",
       "1                 0 -0.138264          0.007937   0.358450  100.208161    1.0   \n",
       "2                 0  0.647689          0.011905   1.006138  100.575190    1.0   \n",
       "3                 0  1.523030          0.015873   2.529168  101.445763    1.0   \n",
       "4                 0 -0.234153          0.019841   2.295015  101.309552    1.0   \n",
       "...             ...       ...               ...        ...         ...    ...   \n",
       "499995         9999  1.333620          0.182540  -6.315671   96.419048    1.0   \n",
       "499996         9999 -0.109756          0.186508  -6.425427   96.357521    1.0   \n",
       "499997         9999 -0.243695          0.190476  -6.669122   96.222937    1.0   \n",
       "499998         9999 -0.797460          0.194444  -7.466581   95.787339    1.0   \n",
       "499999         9999 -1.641133          0.198413  -9.107715   94.898708    1.0   \n",
       "\n",
       "        normalized_time     delta  call_price  \n",
       "0                  0.02  0.530675    3.733329  \n",
       "1                  0.04  0.527114    3.683771  \n",
       "2                  0.06  0.543336    3.873056  \n",
       "3                  0.08  0.581375    4.355528  \n",
       "4                  0.10  0.575568    4.269587  \n",
       "...                 ...       ...         ...  \n",
       "499995             0.92  0.341836    1.711387  \n",
       "499996             0.94  0.338518    1.683471  \n",
       "499997             0.96  0.331785    1.631411  \n",
       "499998             0.98  0.311208    1.484546  \n",
       "499999             1.00  0.271092    1.219463  \n",
       "\n",
       "[500000 rows x 9 columns]"
      ]
     },
     "execution_count": 13,
     "metadata": {},
     "output_type": "execute_result"
    }
   ],
   "source": [
    "eval_path"
   ]
  },
  {
   "cell_type": "code",
   "execution_count": 14,
   "metadata": {},
   "outputs": [],
   "source": [
    "reward_history = oos_eval.groupby('idx').reward.median()"
   ]
  },
  {
   "cell_type": "code",
   "execution_count": 15,
   "metadata": {},
   "outputs": [
    {
     "data": {
      "text/plain": [
       "idx\n",
       "0    -1.488045\n",
       "1    -0.035413\n",
       "2    -0.074625\n",
       "3    -0.070668\n",
       "4    -0.093068\n",
       "        ...   \n",
       "67   -0.026915\n",
       "68   -0.027256\n",
       "69   -0.027549\n",
       "70   -0.034536\n",
       "71   -0.058121\n",
       "Name: reward, Length: 72, dtype: float64"
      ]
     },
     "execution_count": 15,
     "metadata": {},
     "output_type": "execute_result"
    }
   ],
   "source": [
    "reward_history"
   ]
  },
  {
   "cell_type": "code",
   "execution_count": 16,
   "metadata": {},
   "outputs": [
    {
     "data": {
      "text/plain": [
       "[]"
      ]
     },
     "execution_count": 16,
     "metadata": {},
     "output_type": "execute_result"
    },
    {
     "data": {
      "image/png": "[encoded data removed]",
      "text/plain": [
       "<Figure size 432x288 with 1 Axes>"
      ]
     },
     "metadata": {
      "needs_background": "light"
     },
     "output_type": "display_data"
    }
   ],
   "source": [
    "reward_history.plot(style='x-')\n",
    "plt.semilogx()\n",
    "#plt.xlim(10,)"
   ]
  },
  {
   "cell_type": "code",
   "execution_count": 17,
   "metadata": {},
   "outputs": [],
   "source": [
    "eval_path[['holdings', 'reward']] = oos_eval.loc[oos_eval['idx'] == oos_eval['idx'].max(), ['holdings', 'reward']]"
   ]
  },
  {
   "cell_type": "code",
   "execution_count": 18,
   "metadata": {},
   "outputs": [
    {
     "data": {
      "text/plain": [
       "[<matplotlib.lines.Line2D at 0x14540badbf70>]"
      ]
     },
     "execution_count": 18,
     "metadata": {},
     "output_type": "execute_result"
    },
    {
     "data": {
      "image/png": "[encoded data removed]",
      "text/plain": [
       "<Figure size 1152x576 with 2 Axes>"
      ]
     },
     "metadata": {
      "needs_background": "light"
     },
     "output_type": "display_data"
    }
   ],
   "source": [
    "sample_experiment = eval_path.query('episode_idx==105')\n",
    "fig, axes = plt.subplots(1, 2, figsize=(16, 8))\n",
    "axes[0].plot(np.arange(50), sample_experiment.delta * -100, '-')\n",
    "axes[0].plot(np.arange(50), sample_experiment.holdings, '*-')\n",
    "axes[1].plot(np.arange(50), ((sample_experiment['price'].shift(-1) - sample_experiment['price']) * sample_experiment['holdings']).cumsum(), 'v-')\n",
    "axes[1].plot(np.arange(50), ((sample_experiment['call_price'].shift(-1) - sample_experiment['call_price']) * 100).cumsum(), 'x-')\n",
    "\n"
   ]
  },
  {
   "cell_type": "code",
   "execution_count": 19,
   "metadata": {},
   "outputs": [],
   "source": [
    "stock_holdings = np.arange(-100,-19)\n",
    "delta_oom = - stock_holdings\n",
    "delta_atm = -50 - stock_holdings\n",
    "delta_itm = -100 - stock_holdings"
   ]
  },
  {
   "cell_type": "code",
   "execution_count": 20,
   "metadata": {},
   "outputs": [],
   "source": [
    "oom_actions = list(policy_function.iloc[:81]['actions'])\n",
    "atm_actions = list(policy_function.iloc[81:162]['actions'])\n",
    "itm_actions = list(policy_function.iloc[162:]['actions'])"
   ]
  },
  {
   "cell_type": "code",
   "execution_count": 21,
   "metadata": {},
   "outputs": [
    {
     "data": {
      "text/plain": [
       "<matplotlib.legend.Legend at 0x14540bb30ee0>"
      ]
     },
     "execution_count": 21,
     "metadata": {},
     "output_type": "execute_result"
    },
    {
     "data": {
      "image/png": "[encoded data removed]",
      "text/plain": [
       "<Figure size 1440x1080 with 1 Axes>"
      ]
     },
     "metadata": {
      "needs_background": "light"
     },
     "output_type": "display_data"
    }
   ],
   "source": [
    "plt.figure(figsize=(20, 15))\n",
    "plt.plot(stock_holdings, delta_oom, ls=\":\" , label=\"Delta Out of Money\", color=\"red\") \n",
    "plt.plot(stock_holdings, delta_atm, ls=\"--\" , label=\"Delta At The Money\", color=\"blue\") \n",
    "plt.plot(stock_holdings, delta_itm, ls=\"-.\" , label=\"Delta In The Money\", color=\"green\") \n",
    "plt.scatter(stock_holdings, oom_actions - stock_holdings, marker='o', s=50, label=\"DQN Out of Money\", color=\"red\") \n",
    "plt.scatter(stock_holdings, atm_actions - stock_holdings, marker='*', s=50, label=\"DQN At The Money\", color=\"blue\") \n",
    "plt.scatter(stock_holdings, itm_actions - stock_holdings, marker='^', s=50, label=\"DQN In The Money\", color=\"green\") \n",
    "# plt.scatter(stock_holdings, oom_actions, label=\"DQN Out of Money\", color=\"red\", s=1) \n",
    "# plt.scatter(stock_holdings, atm_actions, label=\"DQN At The Money\", color=\"blue\", s=1) \n",
    "# plt.scatter(stock_holdings, itm_actions, label=\"DQN In The Money\", color=\"green\", s=1) \n",
    "plt.gca().invert_xaxis()\n",
    "plt.legend(loc='upper center', bbox_to_anchor=(1.3, 0.5), fancybox=True)"
   ]
  },
  {
   "cell_type": "code",
   "execution_count": null,
   "metadata": {},
   "outputs": [],
   "source": []
  },
  {
   "cell_type": "code",
   "execution_count": null,
   "metadata": {},
   "outputs": [],
   "source": []
  }
 ],
 "metadata": {
  "kernelspec": {
   "display_name": "my_env",
   "language": "python",
   "name": "my_env"
  },
  "language_info": {
   "codemirror_mode": {
    "name": "ipython",
    "version": 3
   },
   "file_extension": ".py",
   "mimetype": "text/x-python",
   "name": "python",
   "nbconvert_exporter": "python",
   "pygments_lexer": "ipython3",
   "version": "3.8.5"
  }
 },
 "nbformat": 4,
 "nbformat_minor": 5
}
