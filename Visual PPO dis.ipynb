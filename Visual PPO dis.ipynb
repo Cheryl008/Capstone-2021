{
 "cells": [
  {
   "cell_type": "code",
   "execution_count": 1,
   "id": "2db35f9c",
   "metadata": {},
   "outputs": [],
   "source": [
    "import numpy as np\n",
    "import pandas as pd\n",
    "#from stable_baselines3.ppo import MlpPolicy\n",
    "#from stable_baselines3.common.env_checker import check_env\n",
    "#from stable_baselines3 import PPO\n",
    "import pickle\n",
    "import os\n",
    "\n",
    "import matplotlib.pyplot as plt\n",
    "%matplotlib inline"
   ]
  },
  {
   "cell_type": "code",
   "execution_count": 23,
   "id": "6562a1b2",
   "metadata": {},
   "outputs": [],
   "source": [
    "RESULT_PATH = '/scratch/wf541/outputs/2021-11-18/23-03-53'"
   ]
  },
  {
   "cell_type": "code",
   "execution_count": 24,
   "id": "3cac6f07",
   "metadata": {},
   "outputs": [],
   "source": [
    "results = [os.path.join(RESULT_PATH, pth) for pth in os.listdir(RESULT_PATH) if (not pth.endswith('.yaml')) and (not pth.startswith('.'))]"
   ]
  },
  {
   "cell_type": "code",
   "execution_count": 25,
   "id": "ce2f822f",
   "metadata": {},
   "outputs": [
    {
     "data": {
      "text/plain": [
       "['/scratch/wf541/outputs/2021-11-18/23-03-53/rl_logs.json',\n",
       " '/scratch/wf541/outputs/2021-11-18/23-03-53/action_fn_logs.h5',\n",
       " '/scratch/wf541/outputs/2021-11-18/23-03-53/eval_path.pkl',\n",
       " '/scratch/wf541/outputs/2021-11-18/23-03-53/hydra_training_driver_ppo_dis.log',\n",
       " '/scratch/wf541/outputs/2021-11-18/23-03-53/reward_history.h5']"
      ]
     },
     "execution_count": 25,
     "metadata": {},
     "output_type": "execute_result"
    }
   ],
   "source": [
    "results"
   ]
  },
  {
   "cell_type": "code",
   "execution_count": 26,
   "id": "94863e55",
   "metadata": {},
   "outputs": [],
   "source": [
    "action_oos_eval_path = os.path.join(RESULT_PATH, 'action_fn_logs.h5')\n",
    "action_eval_path = os.path.join(RESULT_PATH, 'eval_path.pkl')"
   ]
  },
  {
   "cell_type": "code",
   "execution_count": 27,
   "id": "47d86546",
   "metadata": {},
   "outputs": [],
   "source": [
    "oos_eval = pd.read_hdf(action_oos_eval_path)"
   ]
  },
  {
   "cell_type": "code",
   "execution_count": 28,
   "id": "f296cdec",
   "metadata": {},
   "outputs": [
    {
     "data": {
      "text/html": [
       "<div>\n",
       "<style scoped>\n",
       "    .dataframe tbody tr th:only-of-type {\n",
       "        vertical-align: middle;\n",
       "    }\n",
       "\n",
       "    .dataframe tbody tr th {\n",
       "        vertical-align: top;\n",
       "    }\n",
       "\n",
       "    .dataframe thead th {\n",
       "        text-align: right;\n",
       "    }\n",
       "</style>\n",
       "<table border=\"1\" class=\"dataframe\">\n",
       "  <thead>\n",
       "    <tr style=\"text-align: right;\">\n",
       "      <th></th>\n",
       "      <th>holdings</th>\n",
       "      <th>reward</th>\n",
       "    </tr>\n",
       "  </thead>\n",
       "  <tbody>\n",
       "    <tr>\n",
       "      <th>0</th>\n",
       "      <td>-17</td>\n",
       "      <td>-0.000000</td>\n",
       "    </tr>\n",
       "    <tr>\n",
       "      <th>1</th>\n",
       "      <td>-17</td>\n",
       "      <td>-0.645325</td>\n",
       "    </tr>\n",
       "    <tr>\n",
       "      <th>2</th>\n",
       "      <td>-17</td>\n",
       "      <td>-8.050642</td>\n",
       "    </tr>\n",
       "    <tr>\n",
       "      <th>3</th>\n",
       "      <td>-17</td>\n",
       "      <td>-55.936392</td>\n",
       "    </tr>\n",
       "    <tr>\n",
       "      <th>4</th>\n",
       "      <td>-17</td>\n",
       "      <td>-1.970958</td>\n",
       "    </tr>\n",
       "    <tr>\n",
       "      <th>...</th>\n",
       "      <td>...</td>\n",
       "      <td>...</td>\n",
       "    </tr>\n",
       "    <tr>\n",
       "      <th>499995</th>\n",
       "      <td>-49</td>\n",
       "      <td>-0.511045</td>\n",
       "    </tr>\n",
       "    <tr>\n",
       "      <th>499996</th>\n",
       "      <td>-36</td>\n",
       "      <td>-0.002493</td>\n",
       "    </tr>\n",
       "    <tr>\n",
       "      <th>499997</th>\n",
       "      <td>-36</td>\n",
       "      <td>-0.006518</td>\n",
       "    </tr>\n",
       "    <tr>\n",
       "      <th>499998</th>\n",
       "      <td>-36</td>\n",
       "      <td>-0.049506</td>\n",
       "    </tr>\n",
       "    <tr>\n",
       "      <th>499999</th>\n",
       "      <td>-36</td>\n",
       "      <td>-1.502823</td>\n",
       "    </tr>\n",
       "  </tbody>\n",
       "</table>\n",
       "<p>10500000 rows × 2 columns</p>\n",
       "</div>"
      ],
      "text/plain": [
       "        holdings     reward\n",
       "0            -17  -0.000000\n",
       "1            -17  -0.645325\n",
       "2            -17  -8.050642\n",
       "3            -17 -55.936392\n",
       "4            -17  -1.970958\n",
       "...          ...        ...\n",
       "499995       -49  -0.511045\n",
       "499996       -36  -0.002493\n",
       "499997       -36  -0.006518\n",
       "499998       -36  -0.049506\n",
       "499999       -36  -1.502823\n",
       "\n",
       "[10500000 rows x 2 columns]"
      ]
     },
     "execution_count": 28,
     "metadata": {},
     "output_type": "execute_result"
    }
   ],
   "source": [
    "oos_eval"
   ]
  },
  {
   "cell_type": "code",
   "execution_count": 29,
   "id": "a91dd1f9",
   "metadata": {},
   "outputs": [],
   "source": [
    "oos_eval['idx'] = np.repeat(np.arange(oos_eval.shape[0] // (50 * 10000)), 50 * 10000)"
   ]
  },
  {
   "cell_type": "code",
   "execution_count": 30,
   "id": "36a6b18c",
   "metadata": {},
   "outputs": [
    {
     "data": {
      "text/html": [
       "<div>\n",
       "<style scoped>\n",
       "    .dataframe tbody tr th:only-of-type {\n",
       "        vertical-align: middle;\n",
       "    }\n",
       "\n",
       "    .dataframe tbody tr th {\n",
       "        vertical-align: top;\n",
       "    }\n",
       "\n",
       "    .dataframe thead th {\n",
       "        text-align: right;\n",
       "    }\n",
       "</style>\n",
       "<table border=\"1\" class=\"dataframe\">\n",
       "  <thead>\n",
       "    <tr style=\"text-align: right;\">\n",
       "      <th></th>\n",
       "      <th>holdings</th>\n",
       "      <th>reward</th>\n",
       "      <th>idx</th>\n",
       "    </tr>\n",
       "  </thead>\n",
       "  <tbody>\n",
       "    <tr>\n",
       "      <th>0</th>\n",
       "      <td>-17</td>\n",
       "      <td>-0.000000</td>\n",
       "      <td>0</td>\n",
       "    </tr>\n",
       "    <tr>\n",
       "      <th>1</th>\n",
       "      <td>-17</td>\n",
       "      <td>-0.645325</td>\n",
       "      <td>0</td>\n",
       "    </tr>\n",
       "    <tr>\n",
       "      <th>2</th>\n",
       "      <td>-17</td>\n",
       "      <td>-8.050642</td>\n",
       "      <td>0</td>\n",
       "    </tr>\n",
       "    <tr>\n",
       "      <th>3</th>\n",
       "      <td>-17</td>\n",
       "      <td>-55.936392</td>\n",
       "      <td>0</td>\n",
       "    </tr>\n",
       "    <tr>\n",
       "      <th>4</th>\n",
       "      <td>-17</td>\n",
       "      <td>-1.970958</td>\n",
       "      <td>0</td>\n",
       "    </tr>\n",
       "    <tr>\n",
       "      <th>...</th>\n",
       "      <td>...</td>\n",
       "      <td>...</td>\n",
       "      <td>...</td>\n",
       "    </tr>\n",
       "    <tr>\n",
       "      <th>499995</th>\n",
       "      <td>-49</td>\n",
       "      <td>-0.511045</td>\n",
       "      <td>20</td>\n",
       "    </tr>\n",
       "    <tr>\n",
       "      <th>499996</th>\n",
       "      <td>-36</td>\n",
       "      <td>-0.002493</td>\n",
       "      <td>20</td>\n",
       "    </tr>\n",
       "    <tr>\n",
       "      <th>499997</th>\n",
       "      <td>-36</td>\n",
       "      <td>-0.006518</td>\n",
       "      <td>20</td>\n",
       "    </tr>\n",
       "    <tr>\n",
       "      <th>499998</th>\n",
       "      <td>-36</td>\n",
       "      <td>-0.049506</td>\n",
       "      <td>20</td>\n",
       "    </tr>\n",
       "    <tr>\n",
       "      <th>499999</th>\n",
       "      <td>-36</td>\n",
       "      <td>-1.502823</td>\n",
       "      <td>20</td>\n",
       "    </tr>\n",
       "  </tbody>\n",
       "</table>\n",
       "<p>10500000 rows × 3 columns</p>\n",
       "</div>"
      ],
      "text/plain": [
       "        holdings     reward  idx\n",
       "0            -17  -0.000000    0\n",
       "1            -17  -0.645325    0\n",
       "2            -17  -8.050642    0\n",
       "3            -17 -55.936392    0\n",
       "4            -17  -1.970958    0\n",
       "...          ...        ...  ...\n",
       "499995       -49  -0.511045   20\n",
       "499996       -36  -0.002493   20\n",
       "499997       -36  -0.006518   20\n",
       "499998       -36  -0.049506   20\n",
       "499999       -36  -1.502823   20\n",
       "\n",
       "[10500000 rows x 3 columns]"
      ]
     },
     "execution_count": 30,
     "metadata": {},
     "output_type": "execute_result"
    }
   ],
   "source": [
    "oos_eval"
   ]
  },
  {
   "cell_type": "code",
   "execution_count": 31,
   "id": "a141a42a",
   "metadata": {},
   "outputs": [],
   "source": [
    "eval_path = pickle.load(open(action_eval_path, 'rb'))"
   ]
  },
  {
   "cell_type": "code",
   "execution_count": 32,
   "id": "729fff93",
   "metadata": {},
   "outputs": [
    {
     "data": {
      "text/html": [
       "<div>\n",
       "<style scoped>\n",
       "    .dataframe tbody tr th:only-of-type {\n",
       "        vertical-align: middle;\n",
       "    }\n",
       "\n",
       "    .dataframe tbody tr th {\n",
       "        vertical-align: top;\n",
       "    }\n",
       "\n",
       "    .dataframe thead th {\n",
       "        text-align: right;\n",
       "    }\n",
       "</style>\n",
       "<table border=\"1\" class=\"dataframe\">\n",
       "  <thead>\n",
       "    <tr style=\"text-align: right;\">\n",
       "      <th></th>\n",
       "      <th>episode_idx</th>\n",
       "      <th>randn</th>\n",
       "      <th>time_to_maturity</th>\n",
       "      <th>cum_randn</th>\n",
       "      <th>price</th>\n",
       "      <th>all_1</th>\n",
       "      <th>normalized_time</th>\n",
       "      <th>delta</th>\n",
       "      <th>call_price</th>\n",
       "    </tr>\n",
       "  </thead>\n",
       "  <tbody>\n",
       "    <tr>\n",
       "      <th>0</th>\n",
       "      <td>0</td>\n",
       "      <td>0.496714</td>\n",
       "      <td>0.003968</td>\n",
       "      <td>0.496714</td>\n",
       "      <td>100.288355</td>\n",
       "      <td>1.0</td>\n",
       "      <td>0.02</td>\n",
       "      <td>0.530675</td>\n",
       "      <td>3.733329</td>\n",
       "    </tr>\n",
       "    <tr>\n",
       "      <th>1</th>\n",
       "      <td>0</td>\n",
       "      <td>-0.138264</td>\n",
       "      <td>0.007937</td>\n",
       "      <td>0.358450</td>\n",
       "      <td>100.208161</td>\n",
       "      <td>1.0</td>\n",
       "      <td>0.04</td>\n",
       "      <td>0.527114</td>\n",
       "      <td>3.683771</td>\n",
       "    </tr>\n",
       "    <tr>\n",
       "      <th>2</th>\n",
       "      <td>0</td>\n",
       "      <td>0.647689</td>\n",
       "      <td>0.011905</td>\n",
       "      <td>1.006138</td>\n",
       "      <td>100.575190</td>\n",
       "      <td>1.0</td>\n",
       "      <td>0.06</td>\n",
       "      <td>0.543336</td>\n",
       "      <td>3.873056</td>\n",
       "    </tr>\n",
       "    <tr>\n",
       "      <th>3</th>\n",
       "      <td>0</td>\n",
       "      <td>1.523030</td>\n",
       "      <td>0.015873</td>\n",
       "      <td>2.529168</td>\n",
       "      <td>101.445763</td>\n",
       "      <td>1.0</td>\n",
       "      <td>0.08</td>\n",
       "      <td>0.581375</td>\n",
       "      <td>4.355528</td>\n",
       "    </tr>\n",
       "    <tr>\n",
       "      <th>4</th>\n",
       "      <td>0</td>\n",
       "      <td>-0.234153</td>\n",
       "      <td>0.019841</td>\n",
       "      <td>2.295015</td>\n",
       "      <td>101.309552</td>\n",
       "      <td>1.0</td>\n",
       "      <td>0.10</td>\n",
       "      <td>0.575568</td>\n",
       "      <td>4.269587</td>\n",
       "    </tr>\n",
       "    <tr>\n",
       "      <th>...</th>\n",
       "      <td>...</td>\n",
       "      <td>...</td>\n",
       "      <td>...</td>\n",
       "      <td>...</td>\n",
       "      <td>...</td>\n",
       "      <td>...</td>\n",
       "      <td>...</td>\n",
       "      <td>...</td>\n",
       "      <td>...</td>\n",
       "    </tr>\n",
       "    <tr>\n",
       "      <th>499995</th>\n",
       "      <td>9999</td>\n",
       "      <td>1.333620</td>\n",
       "      <td>0.182540</td>\n",
       "      <td>-6.315671</td>\n",
       "      <td>96.419048</td>\n",
       "      <td>1.0</td>\n",
       "      <td>0.92</td>\n",
       "      <td>0.341836</td>\n",
       "      <td>1.711387</td>\n",
       "    </tr>\n",
       "    <tr>\n",
       "      <th>499996</th>\n",
       "      <td>9999</td>\n",
       "      <td>-0.109756</td>\n",
       "      <td>0.186508</td>\n",
       "      <td>-6.425427</td>\n",
       "      <td>96.357521</td>\n",
       "      <td>1.0</td>\n",
       "      <td>0.94</td>\n",
       "      <td>0.338518</td>\n",
       "      <td>1.683471</td>\n",
       "    </tr>\n",
       "    <tr>\n",
       "      <th>499997</th>\n",
       "      <td>9999</td>\n",
       "      <td>-0.243695</td>\n",
       "      <td>0.190476</td>\n",
       "      <td>-6.669122</td>\n",
       "      <td>96.222937</td>\n",
       "      <td>1.0</td>\n",
       "      <td>0.96</td>\n",
       "      <td>0.331785</td>\n",
       "      <td>1.631411</td>\n",
       "    </tr>\n",
       "    <tr>\n",
       "      <th>499998</th>\n",
       "      <td>9999</td>\n",
       "      <td>-0.797460</td>\n",
       "      <td>0.194444</td>\n",
       "      <td>-7.466581</td>\n",
       "      <td>95.787339</td>\n",
       "      <td>1.0</td>\n",
       "      <td>0.98</td>\n",
       "      <td>0.311208</td>\n",
       "      <td>1.484546</td>\n",
       "    </tr>\n",
       "    <tr>\n",
       "      <th>499999</th>\n",
       "      <td>9999</td>\n",
       "      <td>-1.641133</td>\n",
       "      <td>0.198413</td>\n",
       "      <td>-9.107715</td>\n",
       "      <td>94.898708</td>\n",
       "      <td>1.0</td>\n",
       "      <td>1.00</td>\n",
       "      <td>0.271092</td>\n",
       "      <td>1.219463</td>\n",
       "    </tr>\n",
       "  </tbody>\n",
       "</table>\n",
       "<p>500000 rows × 9 columns</p>\n",
       "</div>"
      ],
      "text/plain": [
       "        episode_idx     randn  time_to_maturity  cum_randn       price  all_1  \\\n",
       "0                 0  0.496714          0.003968   0.496714  100.288355    1.0   \n",
       "1                 0 -0.138264          0.007937   0.358450  100.208161    1.0   \n",
       "2                 0  0.647689          0.011905   1.006138  100.575190    1.0   \n",
       "3                 0  1.523030          0.015873   2.529168  101.445763    1.0   \n",
       "4                 0 -0.234153          0.019841   2.295015  101.309552    1.0   \n",
       "...             ...       ...               ...        ...         ...    ...   \n",
       "499995         9999  1.333620          0.182540  -6.315671   96.419048    1.0   \n",
       "499996         9999 -0.109756          0.186508  -6.425427   96.357521    1.0   \n",
       "499997         9999 -0.243695          0.190476  -6.669122   96.222937    1.0   \n",
       "499998         9999 -0.797460          0.194444  -7.466581   95.787339    1.0   \n",
       "499999         9999 -1.641133          0.198413  -9.107715   94.898708    1.0   \n",
       "\n",
       "        normalized_time     delta  call_price  \n",
       "0                  0.02  0.530675    3.733329  \n",
       "1                  0.04  0.527114    3.683771  \n",
       "2                  0.06  0.543336    3.873056  \n",
       "3                  0.08  0.581375    4.355528  \n",
       "4                  0.10  0.575568    4.269587  \n",
       "...                 ...       ...         ...  \n",
       "499995             0.92  0.341836    1.711387  \n",
       "499996             0.94  0.338518    1.683471  \n",
       "499997             0.96  0.331785    1.631411  \n",
       "499998             0.98  0.311208    1.484546  \n",
       "499999             1.00  0.271092    1.219463  \n",
       "\n",
       "[500000 rows x 9 columns]"
      ]
     },
     "execution_count": 32,
     "metadata": {},
     "output_type": "execute_result"
    }
   ],
   "source": [
    "eval_path"
   ]
  },
  {
   "cell_type": "code",
   "execution_count": 33,
   "id": "776538b6",
   "metadata": {},
   "outputs": [],
   "source": [
    "reward_history = oos_eval.groupby('idx').reward.median()"
   ]
  },
  {
   "cell_type": "code",
   "execution_count": 34,
   "id": "f5ac4b98",
   "metadata": {},
   "outputs": [
    {
     "data": {
      "text/plain": [
       "[]"
      ]
     },
     "execution_count": 34,
     "metadata": {},
     "output_type": "execute_result"
    },
    {
     "data": {
      "image/png": "[encoded data removed]",
      "text/plain": [
       "<Figure size 432x288 with 1 Axes>"
      ]
     },
     "metadata": {
      "needs_background": "light"
     },
     "output_type": "display_data"
    }
   ],
   "source": [
    "reward_history.plot(style='x-')\n",
    "plt.semilogx()\n",
    "#plt.xlim(100,)"
   ]
  },
  {
   "cell_type": "code",
   "execution_count": 145,
   "id": "d47ac2c3",
   "metadata": {},
   "outputs": [],
   "source": [
    "eval_path[['holdings', 'reward']] = oos_eval.loc[oos_eval['idx'] == oos_eval['idx'].max(), ['holdings', 'reward']]"
   ]
  },
  {
   "cell_type": "code",
   "execution_count": 146,
   "id": "5cb9b827",
   "metadata": {},
   "outputs": [],
   "source": [
    "eval_path[['holdings', 'reward']] = oos_eval.loc[oos_eval['idx'] == 625, ['holdings', 'reward']]"
   ]
  },
  {
   "cell_type": "code",
   "execution_count": 147,
   "id": "4884f45c",
   "metadata": {},
   "outputs": [
    {
     "data": {
      "text/plain": [
       "[<matplotlib.lines.Line2D at 0x7f9d208bb130>]"
      ]
     },
     "execution_count": 147,
     "metadata": {},
     "output_type": "execute_result"
    },
    {
     "data": {
      "image/png": "[encoded data removed]",
      "text/plain": [
       "<Figure size 1152x576 with 2 Axes>"
      ]
     },
     "metadata": {
      "needs_background": "light"
     },
     "output_type": "display_data"
    }
   ],
   "source": [
    "sample_experiment = eval_path.query('episode_idx==105')\n",
    "fig, axes = plt.subplots(1, 2, figsize=(16, 8))\n",
    "axes[0].plot(np.arange(50), sample_experiment.delta * -100, '-')\n",
    "axes[0].plot(np.arange(50), sample_experiment.holdings, '*-')\n",
    "axes[1].plot(np.arange(50), ((sample_experiment['price'].shift(-1) - sample_experiment['price']) * sample_experiment['holdings']).cumsum(), 'v-')\n",
    "axes[1].plot(np.arange(50), ((eval_path.query('episode_idx==105')['call_price'].shift(-1) - eval_path.query('episode_idx==105')['call_price']) * 100).cumsum(), 'x-')"
   ]
  },
  {
   "cell_type": "code",
   "execution_count": 21,
   "id": "b9c4edb7",
   "metadata": {},
   "outputs": [
    {
     "data": {
      "text/plain": [
       "[<matplotlib.lines.Line2D at 0x7fa97c0606d0>]"
      ]
     },
     "execution_count": 21,
     "metadata": {},
     "output_type": "execute_result"
    },
    {
     "data": {
      "image/png": "[encoded data removed]",
      "text/plain": [
       "<Figure size 432x288 with 1 Axes>"
      ]
     },
     "metadata": {
      "needs_background": "light"
     },
     "output_type": "display_data"
    }
   ],
   "source": [
    "plt.plot(np.arange(50), ((sample_experiment['price'].shift(-1) - sample_experiment['price']) * sample_experiment['holdings']).cumsum() + ((eval_path.query('episode_idx==105')['call_price'].shift(-1) - \n",
    "    eval_path.query('episode_idx==105')['call_price']) * 100).cumsum(), 'v-')"
   ]
  },
  {
   "cell_type": "code",
   "execution_count": null,
   "id": "c6b2edaf",
   "metadata": {},
   "outputs": [],
   "source": []
  }
 ],
 "metadata": {
  "kernelspec": {
   "display_name": "Python 3",
   "language": "python",
   "name": "python3"
  },
  "language_info": {
   "codemirror_mode": {
    "name": "ipython",
    "version": 3
   },
   "file_extension": ".py",
   "mimetype": "text/x-python",
   "name": "python",
   "nbconvert_exporter": "python",
   "pygments_lexer": "ipython3",
   "version": "3.8.5"
  }
 },
 "nbformat": 4,
 "nbformat_minor": 5
}
